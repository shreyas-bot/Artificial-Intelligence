{
 "cells": [
  {
   "cell_type": "code",
   "execution_count": 1,
   "metadata": {
    "_cell_guid": "79c7e3d0-c299-4dcb-8224-4455121ee9b0",
    "_uuid": "d629ff2d2480ee46fbb7e2d37f6b5fab8052498a",
    "execution": {
     "iopub.execute_input": "2020-12-07T05:24:01.075301Z",
     "iopub.status.busy": "2020-12-07T05:24:01.074665Z",
     "iopub.status.idle": "2020-12-07T05:24:01.078613Z",
     "shell.execute_reply": "2020-12-07T05:24:01.079156Z"
    },
    "papermill": {
     "duration": 0.023358,
     "end_time": "2020-12-07T05:24:01.079293",
     "exception": false,
     "start_time": "2020-12-07T05:24:01.055935",
     "status": "completed"
    },
    "tags": []
   },
   "outputs": [],
   "source": [
    "\n",
    "# Global variable kb (knowledge base)\n",
    "kb = []\n",
    "\n",
    "# Reset kb to an empty list\n",
    "def CLEAR():\n",
    "    global kb\n",
    "    kb = []\n"
   ]
  },
  {
   "cell_type": "code",
   "execution_count": 2,
   "metadata": {
    "execution": {
     "iopub.execute_input": "2020-12-07T05:24:01.109809Z",
     "iopub.status.busy": "2020-12-07T05:24:01.109217Z",
     "iopub.status.idle": "2020-12-07T05:24:01.116280Z",
     "shell.execute_reply": "2020-12-07T05:24:01.115693Z"
    },
    "papermill": {
     "duration": 0.023088,
     "end_time": "2020-12-07T05:24:01.116403",
     "exception": false,
     "start_time": "2020-12-07T05:24:01.093315",
     "status": "completed"
    },
    "tags": []
   },
   "outputs": [],
   "source": [
    "# Insert sentence to the kb\n",
    "def TELL(sentence):\n",
    "    global kb\n",
    "    # If the sentence is a clause, insert directly.\n",
    "    if isClause(sentence):\n",
    "        kb.append(sentence)\n",
    "    # If not, convert to CNF, and then insert clauses one by one.\n",
    "    else:\n",
    "        sentenceCNF = convertCNF(sentence)\n",
    "        if not sentenceCNF:\n",
    "            print(\"Illegal input\")\n",
    "            return\n",
    "        # Insert clauses one by one when there are multiple clauses\n",
    "        if isAndList(sentenceCNF):\n",
    "            for s in sentenceCNF[1:]:\n",
    "                kb.append(s)\n",
    "        else:\n",
    "            kb.append(sentenceCNF)"
   ]
  },
  {
   "cell_type": "code",
   "execution_count": 3,
   "metadata": {
    "execution": {
     "iopub.execute_input": "2020-12-07T05:24:01.148593Z",
     "iopub.status.busy": "2020-12-07T05:24:01.147686Z",
     "iopub.status.idle": "2020-12-07T05:24:01.161970Z",
     "shell.execute_reply": "2020-12-07T05:24:01.162453Z"
    },
    "papermill": {
     "duration": 0.031996,
     "end_time": "2020-12-07T05:24:01.162611",
     "exception": false,
     "start_time": "2020-12-07T05:24:01.130615",
     "status": "completed"
    },
    "tags": []
   },
   "outputs": [],
   "source": [
    "\n",
    "# 'ASK' the kb whether a sentence is True or not\n",
    "def ASK(sentence):\n",
    "    global kb\n",
    "\n",
    "    # Negate the sentence, and convert it to CNF accordingly.\n",
    "    if isClause(sentence):\n",
    "        neg = negation(sentence)\n",
    "    else:\n",
    "        sentenceCNF = convertCNF(sentence)\n",
    "        if not sentenceCNF:\n",
    "            print(\"Illegal input\")\n",
    "            return\n",
    "        neg = convertCNF(negation(sentenceCNF))\n",
    "\n",
    "    # Insert individual clauses that we need to ask to ask_list.\n",
    "    ask_list = []\n",
    "    if isAndList(neg):\n",
    "        for n in neg[1:]:\n",
    "            nCNF = makeCNF(n)\n",
    "            if type(nCNF).__name__ == 'list':\n",
    "                ask_list.insert(0, nCNF)\n",
    "            else:\n",
    "                ask_list.insert(0, nCNF)\n",
    "    else:\n",
    "        ask_list = [neg]\n",
    "# Create a new list combining the asked sentence and kb.\n",
    "    # Resolution will happen between the items in the list.\n",
    "    clauses = ask_list + kb[:]\n",
    "\n",
    "    # Recursivly conduct resoltion between items in the clauses list\n",
    "    # until it produces an empty list or there's no more pregress.\n",
    "    while True:\n",
    "        new_clauses = []\n",
    "        for c1 in clauses:\n",
    "            for c2 in clauses:\n",
    "                if c1 is not c2:\n",
    "                    resolved = resolve(c1, c2)\n",
    "                    if resolved == False:\n",
    "                        continue\n",
    "                    if resolved == []:\n",
    "                        return True\n",
    "                    new_clauses.append(resolved)\n",
    "\n",
    "        if len(new_clauses) == 0:\n",
    "            return False\n",
    "\n",
    "        new_in_clauses = True\n",
    "        for n in new_clauses:\n",
    "            if n not in clauses:\n",
    "                new_in_clauses = False\n",
    "                clauses.append(n)\n",
    "\n",
    "        if new_in_clauses:\n",
    "            return False\n",
    "    return False"
   ]
  },
  {
   "cell_type": "code",
   "execution_count": 4,
   "metadata": {
    "execution": {
     "iopub.execute_input": "2020-12-07T05:24:01.195298Z",
     "iopub.status.busy": "2020-12-07T05:24:01.194402Z",
     "iopub.status.idle": "2020-12-07T05:24:01.206365Z",
     "shell.execute_reply": "2020-12-07T05:24:01.206823Z"
    },
    "papermill": {
     "duration": 0.02973,
     "end_time": "2020-12-07T05:24:01.206986",
     "exception": false,
     "start_time": "2020-12-07T05:24:01.177256",
     "status": "completed"
    },
    "tags": []
   },
   "outputs": [],
   "source": [
    "# Conduct resolution on two CNF clauses.\n",
    "def resolve(arg_one, arg_two):\n",
    "    resolved = False\n",
    "\n",
    "    s1 = make_sentence(arg_one)\n",
    "    s2 = make_sentence(arg_two)\n",
    "\n",
    "    resolve_s1 = None\n",
    "    resolve_s2 = None\n",
    "\n",
    "    # Two for loops that iterate through the two clauses.\n",
    "    for i in s1:\n",
    "        if isNotList(i):\n",
    "            a1 = i[1]\n",
    "            a1_not = True\n",
    "        else:\n",
    "            a1 = i\n",
    "            a1_not = False\n",
    "\n",
    "        for j in s2:\n",
    "            if isNotList(j):\n",
    "                a2 = j[1]\n",
    "                a2_not = True\n",
    "            else:\n",
    "                a2 = j\n",
    "                a2_not = False\n",
    "\n",
    "            # cancel out two literals such as 'a' $ ['not', 'a']\n",
    "            if a1 == a2:\n",
    "                if a1_not != a2_not:\n",
    "                    # Return False if resolution already happend\n",
    "                    # but contradiction still exists.\n",
    "                    if resolved:\n",
    "                        return False\n",
    "                    else:\n",
    "                        resolved = True\n",
    "                        resolve_s1 = i\n",
    "                        resolve_s2 = j\n",
    "                        break\n",
    "                    # Return False if not resolution happened\n",
    "    if not resolved:\n",
    "        return False\n",
    "\n",
    "    # Remove the literals that are canceled\n",
    "    s1.remove(resolve_s1)\n",
    "    s2.remove(resolve_s2)\n",
    "\n",
    "    # # Remove duplicates\n",
    "    result = clear_duplicate(s1 + s2)\n",
    "\n",
    "    # Format the result.\n",
    "    if len(result) == 1:\n",
    "        return result[0]\n",
    "    elif len(result) > 1:\n",
    "        result.insert(0, 'or')\n",
    "\n",
    "    return result"
   ]
  },
  {
   "cell_type": "code",
   "execution_count": 5,
   "metadata": {
    "execution": {
     "iopub.execute_input": "2020-12-07T05:24:01.240138Z",
     "iopub.status.busy": "2020-12-07T05:24:01.239247Z",
     "iopub.status.idle": "2020-12-07T05:24:01.245486Z",
     "shell.execute_reply": "2020-12-07T05:24:01.244945Z"
    },
    "papermill": {
     "duration": 0.023741,
     "end_time": "2020-12-07T05:24:01.245590",
     "exception": false,
     "start_time": "2020-12-07T05:24:01.221849",
     "status": "completed"
    },
    "tags": []
   },
   "outputs": [],
   "source": [
    "# Prepare sentences for resolution.\n",
    "def make_sentence(arg):\n",
    "    if isLiteral(arg) or isNotList(arg):\n",
    "        return [arg]\n",
    "    if isOrList(arg):\n",
    "        return clear_duplicate(arg[1:])\n",
    "    return"
   ]
  },
  {
   "cell_type": "code",
   "execution_count": 6,
   "metadata": {
    "execution": {
     "iopub.execute_input": "2020-12-07T05:24:01.281591Z",
     "iopub.status.busy": "2020-12-07T05:24:01.280770Z",
     "iopub.status.idle": "2020-12-07T05:24:01.285098Z",
     "shell.execute_reply": "2020-12-07T05:24:01.284449Z"
    },
    "papermill": {
     "duration": 0.024828,
     "end_time": "2020-12-07T05:24:01.285209",
     "exception": false,
     "start_time": "2020-12-07T05:24:01.260381",
     "status": "completed"
    },
    "tags": []
   },
   "outputs": [],
   "source": [
    "# Clear out duplicates in a sentence.\n",
    "def clear_duplicate(arg):\n",
    "    result = []\n",
    "    for i in range(0, len(arg)):\n",
    "        if arg[i] not in arg[i+1:]:\n",
    "            result.append(arg[i])\n",
    "    return result"
   ]
  },
  {
   "cell_type": "code",
   "execution_count": 7,
   "metadata": {
    "execution": {
     "iopub.execute_input": "2020-12-07T05:24:01.323207Z",
     "iopub.status.busy": "2020-12-07T05:24:01.322575Z",
     "iopub.status.idle": "2020-12-07T05:24:01.326073Z",
     "shell.execute_reply": "2020-12-07T05:24:01.325558Z"
    },
    "papermill": {
     "duration": 0.025663,
     "end_time": "2020-12-07T05:24:01.326182",
     "exception": false,
     "start_time": "2020-12-07T05:24:01.300519",
     "status": "completed"
    },
    "tags": []
   },
   "outputs": [],
   "source": [
    "\n",
    "# Check whether a sentence is a legal CNF clause.\n",
    "def isClause(sentence):\n",
    "    if isLiteral(sentence):\n",
    "        return True\n",
    "    if isNotList(sentence):\n",
    "        if isLiteral(sentence[1]):\n",
    "            return True\n",
    "        else:\n",
    "            return False\n",
    "    if isOrList(sentence):\n",
    "        for i in range(1, len(sentence)):\n",
    "            if len(sentence[i]) > 2:\n",
    "                return False\n",
    "            elif not isClause(sentence[i]):\n",
    "                return False\n",
    "        return True\n",
    "    return False"
   ]
  },
  {
   "cell_type": "code",
   "execution_count": 8,
   "metadata": {
    "execution": {
     "iopub.execute_input": "2020-12-07T05:24:01.361691Z",
     "iopub.status.busy": "2020-12-07T05:24:01.361064Z",
     "iopub.status.idle": "2020-12-07T05:24:01.364247Z",
     "shell.execute_reply": "2020-12-07T05:24:01.363729Z"
    },
    "papermill": {
     "duration": 0.023317,
     "end_time": "2020-12-07T05:24:01.364356",
     "exception": false,
     "start_time": "2020-12-07T05:24:01.341039",
     "status": "completed"
    },
    "tags": []
   },
   "outputs": [],
   "source": [
    "\n",
    "# Check if a sentence is a legal CNF.\n",
    "def isCNF(sentence):\n",
    "    if isClause(sentence):\n",
    "        return True\n",
    "    elif isAndList(sentence):\n",
    "        for s in sentence[1:]:\n",
    "            if not isClause(s):\n",
    "                return False\n",
    "        return True\n",
    "    return False"
   ]
  },
  {
   "cell_type": "code",
   "execution_count": 9,
   "metadata": {
    "execution": {
     "iopub.execute_input": "2020-12-07T05:24:01.403258Z",
     "iopub.status.busy": "2020-12-07T05:24:01.402465Z",
     "iopub.status.idle": "2020-12-07T05:24:01.405949Z",
     "shell.execute_reply": "2020-12-07T05:24:01.405397Z"
    },
    "papermill": {
     "duration": 0.026966,
     "end_time": "2020-12-07T05:24:01.406084",
     "exception": false,
     "start_time": "2020-12-07T05:24:01.379118",
     "status": "completed"
    },
    "tags": []
   },
   "outputs": [],
   "source": [
    "\n",
    "# Negate a sentence.\n",
    "def negation(sentence):\n",
    "    if isLiteral(sentence):\n",
    "        return ['not', sentence]\n",
    "    if isNotList(sentence):\n",
    "        return sentence[1]\n",
    "\n",
    "    # DeMorgan:\n",
    "    if isAndList(sentence):\n",
    "        result = ['or']\n",
    "        for i in sentence[1:]:\n",
    "            if isNotList(sentence):\n",
    "                result.append(i[1])\n",
    "            else:\n",
    "                result.append(['not', sentence])\n",
    "        return result\n",
    "    if isOrList(sentence):\n",
    "        result = ['and']\n",
    "        for i in sentence[:]:\n",
    "            if isNotList(sentence):\n",
    "                result.append(i[1])\n",
    "            else:\n",
    "                result.append(['not', i])\n",
    "        return result\n",
    "    return None"
   ]
  },
  {
   "cell_type": "code",
   "execution_count": 10,
   "metadata": {
    "execution": {
     "iopub.execute_input": "2020-12-07T05:24:01.444198Z",
     "iopub.status.busy": "2020-12-07T05:24:01.443439Z",
     "iopub.status.idle": "2020-12-07T05:24:01.447844Z",
     "shell.execute_reply": "2020-12-07T05:24:01.447340Z"
    },
    "papermill": {
     "duration": 0.026807,
     "end_time": "2020-12-07T05:24:01.447980",
     "exception": false,
     "start_time": "2020-12-07T05:24:01.421173",
     "status": "completed"
    },
    "tags": []
   },
   "outputs": [],
   "source": [
    "\n",
    "# Convert a sentence into CNF.\n",
    "def convertCNF(sentence):\n",
    "    while not isCNF(sentence):\n",
    "        if sentence is None:\n",
    "            return None\n",
    "        sentence = makeCNF(sentence)\n",
    "    return sentence"
   ]
  },
  {
   "cell_type": "code",
   "execution_count": 11,
   "metadata": {
    "execution": {
     "iopub.execute_input": "2020-12-07T05:24:01.496711Z",
     "iopub.status.busy": "2020-12-07T05:24:01.491255Z",
     "iopub.status.idle": "2020-12-07T05:24:01.510452Z",
     "shell.execute_reply": "2020-12-07T05:24:01.510938Z"
    },
    "papermill": {
     "duration": 0.048001,
     "end_time": "2020-12-07T05:24:01.511068",
     "exception": false,
     "start_time": "2020-12-07T05:24:01.463067",
     "status": "completed"
    },
    "tags": []
   },
   "outputs": [],
   "source": [
    "\n",
    "# Help make a sentence into CNF.\n",
    "def makeCNF(sentence):\n",
    "    if isLiteral(sentence):\n",
    "        return sentence\n",
    "\n",
    "    if (type(sentence).__name__ == 'list'):\n",
    "        operand = sentence[0]\n",
    "        if isNotList(sentence):\n",
    "            if isLiteral(sentence[1]):\n",
    "                return sentence\n",
    "            cnf = makeCNF(sentence[1])\n",
    "            if cnf[0] == 'not':\n",
    "                return makeCNF(cnf[1])\n",
    "            if cnf[0] == 'or':\n",
    "                result = ['and']\n",
    "                for i in range(1, len(cnf)):\n",
    "                    result.append(makeCNF(['not', cnf[i]]))\n",
    "                return result\n",
    "            if cnf[0] == 'and':\n",
    "                result = ['or']\n",
    "                for i in range(1, len(cnf)):\n",
    "                    result.append(makeCNF(['not', cnf[i]]))\n",
    "                return result\n",
    "            return \"False: not\"\n",
    "\n",
    "        # Implication Elimination:\n",
    "        if operand == 'implies' and len(sentence) == 3:\n",
    "            return makeCNF(['or', ['not', makeCNF(sentence[1])], makeCNF(sentence[2])])\n",
    "            # Biconditional Elimination:\n",
    "        if operand == 'biconditional' and len(sentence) == 3:\n",
    "            s1 = makeCNF(['implies', sentence[1], sentence[2]])\n",
    "            s2 = makeCNF(['implies', sentence[2], sentence[1]])\n",
    "            return makeCNF(['and', s1, s2])\n",
    "\n",
    "        if isAndList(sentence):\n",
    "            result = ['and']\n",
    "            for i in range(1, len(sentence)):\n",
    "                cnf = makeCNF(sentence[i])\n",
    "                # Distributivity:\n",
    "                if isAndList(cnf):\n",
    "                    for i in range(1, len(cnf)):\n",
    "                        result.append(makeCNF(cnf[i]))\n",
    "                    continue\n",
    "                result.append(makeCNF(cnf))\n",
    "            return result\n",
    "\n",
    "        if isOrList(sentence):\n",
    "            result1 = ['or']\n",
    "            for i in range(1, len(sentence)):\n",
    "                cnf = makeCNF(sentence[i])\n",
    "                # Distributivity:\n",
    "                if isOrList(cnf):\n",
    "                    for i in range(1, len(cnf)):\n",
    "                        result1.append(makeCNF(cnf[i]))\n",
    "                    continue\n",
    "                result1.append(makeCNF(cnf))\n",
    "                # Associativity:\n",
    "            while True:\n",
    "                result2 = ['and']\n",
    "                and_clause = None\n",
    "                for r in result1:\n",
    "                    if isAndList(r):\n",
    "                        and_clause = r\n",
    "                        break\n",
    "\n",
    "                # Finish when there's no more 'and' lists\n",
    "                # inside of 'or' lists\n",
    "                if not and_clause:\n",
    "                    return result1\n",
    "\n",
    "                result1.remove(and_clause)\n",
    "\n",
    "                for i in range(1, len(and_clause)):\n",
    "                    temp = ['or', and_clause[i]]\n",
    "                    for o in result1[1:]:\n",
    "                        temp.append(makeCNF(o))\n",
    "                    result2.append(makeCNF(temp))\n",
    "                result1 = makeCNF(result2)\n",
    "            return None\n",
    "    return None"
   ]
  },
  {
   "cell_type": "code",
   "execution_count": 12,
   "metadata": {
    "execution": {
     "iopub.execute_input": "2020-12-07T05:24:01.550350Z",
     "iopub.status.busy": "2020-12-07T05:24:01.549711Z",
     "iopub.status.idle": "2020-12-07T05:24:01.552768Z",
     "shell.execute_reply": "2020-12-07T05:24:01.552183Z"
    },
    "papermill": {
     "duration": 0.026681,
     "end_time": "2020-12-07T05:24:01.552860",
     "exception": false,
     "start_time": "2020-12-07T05:24:01.526179",
     "status": "completed"
    },
    "tags": []
   },
   "outputs": [],
   "source": [
    "\n",
    "# Below are 4 functions that check the type of a variable\n",
    "def isLiteral(item):\n",
    "    if type(item).__name__ == 'str':\n",
    "        return True\n",
    "    return False\n",
    "\n",
    "\n",
    "def isNotList(item):\n",
    "    if type(item).__name__ == 'list':\n",
    "        if len(item) == 2:\n",
    "            if item[0] == 'not':\n",
    "                return True\n",
    "    return False\n",
    "\n",
    "\n",
    "def isAndList(item):\n",
    "    if type(item).__name__ == 'list':\n",
    "        if len(item) > 2:\n",
    "            if item[0] == 'and':\n",
    "                return True\n",
    "    return False\n",
    "\n",
    "\n",
    "def isOrList(item):\n",
    "    if type(item).__name__ == 'list':\n",
    "        if len(item) > 2:\n",
    "            if item[0] == 'or':\n",
    "                return True\n",
    "    return False\n"
   ]
  },
  {
   "cell_type": "code",
   "execution_count": 13,
   "metadata": {
    "execution": {
     "iopub.execute_input": "2020-12-07T05:24:01.587355Z",
     "iopub.status.busy": "2020-12-07T05:24:01.586713Z",
     "iopub.status.idle": "2020-12-07T05:24:01.588712Z",
     "shell.execute_reply": "2020-12-07T05:24:01.589310Z"
    },
    "papermill": {
     "duration": 0.02133,
     "end_time": "2020-12-07T05:24:01.589417",
     "exception": false,
     "start_time": "2020-12-07T05:24:01.568087",
     "status": "completed"
    },
    "tags": []
   },
   "outputs": [],
   "source": [
    "CLEAR()\n"
   ]
  },
  {
   "cell_type": "code",
   "execution_count": 14,
   "metadata": {
    "execution": {
     "iopub.execute_input": "2020-12-07T05:24:01.639399Z",
     "iopub.status.busy": "2020-12-07T05:24:01.634168Z",
     "iopub.status.idle": "2020-12-07T05:24:01.920744Z",
     "shell.execute_reply": "2020-12-07T05:24:01.920204Z"
    },
    "papermill": {
     "duration": 0.315252,
     "end_time": "2020-12-07T05:24:01.920872",
     "exception": false,
     "start_time": "2020-12-07T05:24:01.605620",
     "status": "completed"
    },
    "tags": []
   },
   "outputs": [
    {
     "data": {
      "text/plain": [
       "True"
      ]
     },
     "execution_count": 14,
     "metadata": {},
     "output_type": "execute_result"
    }
   ],
   "source": [
    "\n",
    "#Test1\n",
    "TELL(['implies', 'p', 'q'])\n",
    "TELL(['implies', 'r', 's'])\n",
    "ASK(['implies',['or','p','r'], ['or', 'q', 's']])"
   ]
  },
  {
   "cell_type": "code",
   "execution_count": 15,
   "metadata": {
    "execution": {
     "iopub.execute_input": "2020-12-07T05:24:01.958791Z",
     "iopub.status.busy": "2020-12-07T05:24:01.958193Z",
     "iopub.status.idle": "2020-12-07T05:24:01.960881Z",
     "shell.execute_reply": "2020-12-07T05:24:01.960300Z"
    },
    "papermill": {
     "duration": 0.023486,
     "end_time": "2020-12-07T05:24:01.961003",
     "exception": false,
     "start_time": "2020-12-07T05:24:01.937517",
     "status": "completed"
    },
    "tags": []
   },
   "outputs": [],
   "source": [
    "CLEAR()\n"
   ]
  },
  {
   "cell_type": "code",
   "execution_count": 16,
   "metadata": {
    "execution": {
     "iopub.execute_input": "2020-12-07T05:24:02.006660Z",
     "iopub.status.busy": "2020-12-07T05:24:02.005826Z",
     "iopub.status.idle": "2020-12-07T05:24:02.009971Z",
     "shell.execute_reply": "2020-12-07T05:24:02.009226Z"
    },
    "papermill": {
     "duration": 0.032687,
     "end_time": "2020-12-07T05:24:02.010094",
     "exception": false,
     "start_time": "2020-12-07T05:24:01.977407",
     "status": "completed"
    },
    "tags": []
   },
   "outputs": [
    {
     "data": {
      "text/plain": [
       "True"
      ]
     },
     "execution_count": 16,
     "metadata": {},
     "output_type": "execute_result"
    }
   ],
   "source": [
    "\n",
    "#Test2\n",
    "TELL('p')\n",
    "TELL(['implies',['and','p','q'],'r'])\n",
    "TELL(['implies',['or','s','t'],'q'])\n",
    "TELL('t')\n",
    "ASK('r')"
   ]
  },
  {
   "cell_type": "code",
   "execution_count": 17,
   "metadata": {
    "execution": {
     "iopub.execute_input": "2020-12-07T05:24:02.064332Z",
     "iopub.status.busy": "2020-12-07T05:24:02.063499Z",
     "iopub.status.idle": "2020-12-07T05:24:02.065496Z",
     "shell.execute_reply": "2020-12-07T05:24:02.066275Z"
    },
    "papermill": {
     "duration": 0.031601,
     "end_time": "2020-12-07T05:24:02.066427",
     "exception": false,
     "start_time": "2020-12-07T05:24:02.034826",
     "status": "completed"
    },
    "tags": []
   },
   "outputs": [],
   "source": [
    "CLEAR()\n"
   ]
  },
  {
   "cell_type": "code",
   "execution_count": 18,
   "metadata": {
    "execution": {
     "iopub.execute_input": "2020-12-07T05:24:02.122962Z",
     "iopub.status.busy": "2020-12-07T05:24:02.122152Z",
     "iopub.status.idle": "2020-12-07T05:24:02.125162Z",
     "shell.execute_reply": "2020-12-07T05:24:02.125802Z"
    },
    "papermill": {
     "duration": 0.034717,
     "end_time": "2020-12-07T05:24:02.126021",
     "exception": false,
     "start_time": "2020-12-07T05:24:02.091304",
     "status": "completed"
    },
    "tags": []
   },
   "outputs": [
    {
     "data": {
      "text/plain": [
       "True"
      ]
     },
     "execution_count": 18,
     "metadata": {},
     "output_type": "execute_result"
    }
   ],
   "source": [
    "\n",
    "#Test3\n",
    "TELL('a')\n",
    "TELL('b')\n",
    "TELL('c')\n",
    "TELL('d')\n",
    "ASK(['or', 'a', 'b', 'c', 'd'])"
   ]
  },
  {
   "cell_type": "code",
   "execution_count": 19,
   "metadata": {
    "execution": {
     "iopub.execute_input": "2020-12-07T05:24:02.185374Z",
     "iopub.status.busy": "2020-12-07T05:24:02.184562Z",
     "iopub.status.idle": "2020-12-07T05:24:02.188455Z",
     "shell.execute_reply": "2020-12-07T05:24:02.189095Z"
    },
    "papermill": {
     "duration": 0.037767,
     "end_time": "2020-12-07T05:24:02.189241",
     "exception": false,
     "start_time": "2020-12-07T05:24:02.151474",
     "status": "completed"
    },
    "tags": []
   },
   "outputs": [],
   "source": [
    "CLEAR()\n"
   ]
  },
  {
   "cell_type": "code",
   "execution_count": 20,
   "metadata": {
    "execution": {
     "iopub.execute_input": "2020-12-07T05:24:02.247573Z",
     "iopub.status.busy": "2020-12-07T05:24:02.246751Z",
     "iopub.status.idle": "2020-12-07T05:24:02.251657Z",
     "shell.execute_reply": "2020-12-07T05:24:02.251139Z"
    },
    "papermill": {
     "duration": 0.036898,
     "end_time": "2020-12-07T05:24:02.251750",
     "exception": false,
     "start_time": "2020-12-07T05:24:02.214852",
     "status": "completed"
    },
    "tags": []
   },
   "outputs": [
    {
     "data": {
      "text/plain": [
       "False"
      ]
     },
     "execution_count": 20,
     "metadata": {},
     "output_type": "execute_result"
    }
   ],
   "source": [
    "\n",
    "#Test4\n",
    "TELL('a')\n",
    "TELL('b')\n",
    "TELL(['or', ['not', 'a'], 'b'])\n",
    "TELL(['or', 'c', 'd'])\n",
    "TELL('d')\n",
    "ASK('c')"
   ]
  }
 ],
 "metadata": {
  "kernelspec": {
   "display_name": "Python 3",
   "language": "python",
   "name": "python3"
  },
  "language_info": {
   "codemirror_mode": {
    "name": "ipython",
    "version": 3
   },
   "file_extension": ".py",
   "mimetype": "text/x-python",
   "name": "python",
   "nbconvert_exporter": "python",
   "pygments_lexer": "ipython3",
   "version": "3.7.6"
  },
  "papermill": {
   "duration": 6.709141,
   "end_time": "2020-12-07T05:24:02.377281",
   "environment_variables": {},
   "exception": null,
   "input_path": "__notebook__.ipynb",
   "output_path": "__notebook__.ipynb",
   "parameters": {},
   "start_time": "2020-12-07T05:23:55.668140",
   "version": "2.1.0"
  }
 },
 "nbformat": 4,
 "nbformat_minor": 4
}
